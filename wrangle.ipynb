{
 "cells": [
  {
   "cell_type": "code",
   "execution_count": 1,
   "id": "c57dfa0f",
   "metadata": {},
   "outputs": [],
   "source": [
    "%matplotlib inline\n",
    "import matplotlib.pyplot as plt\n",
    "from matplotlib.colors import ListedColormap\n",
    "from env import user, password, host\n",
    "from scipy.stats import levene, ttest_ind\n",
    "from sklearn.ensemble import RandomForestClassifier\n",
    "from sklearn.impute import SimpleImputer\n",
    "from sklearn.linear_model import LogisticRegression\n",
    "from sklearn.metrics import classification_report, confusion_matrix, ConfusionMatrixDisplay, plot_confusion_matrix\n",
    "from sklearn.model_selection import train_test_split\n",
    "from sklearn.neighbors import KNeighborsClassifier\n",
    "from sklearn.preprocessing import MinMaxScaler\n",
    "from sklearn.tree import DecisionTreeClassifier, plot_tree, export_text\n",
    "import math\n",
    "import numpy as np\n",
    "import os\n",
    "import pandas as pd\n",
    "import requests\n",
    "import seaborn as sns\n",
    "import statsmodels.api as sm\n",
    "import warnings\n",
    "warnings.filterwarnings(\"ignore\")"
   ]
  },
  {
   "cell_type": "code",
   "execution_count": 2,
   "id": "e00d438d",
   "metadata": {},
   "outputs": [],
   "source": [
    "df = pd.read_csv('CAMPUS_summary_22.csv')\n",
    "df21 = pd.read_csv('CAMPUS_summary_21.csv')\n",
    "df20 = pd.read_csv('CAMPUS_summary_20.csv')\n",
    "df19 = pd.read_csv('CAMPUS_summary_19.csv')\n",
    "df18 = pd.read_csv('CAMPUS_summary_18.csv')"
   ]
  },
  {
   "cell_type": "code",
   "execution_count": 3,
   "id": "49eb775b",
   "metadata": {},
   "outputs": [],
   "source": [
    "df=df.rename(columns={'AGGREGATION LEVEL': 'agg_level', 'CAMPUS':'campus_number', 'REGION': 'region', 'DISTRICT NAME AND NUMBER': 'dist_name_num','CHARTER_STATUS':'charter_status', 'CAMPUS NAME AND NUMBER': 'campus_name_num', 'SECTION': 'section', 'HEADING':'heading','HEADING NAME': 'heading_name', 'YR22':'student_count'})"
   ]
  },
  {
   "cell_type": "code",
   "execution_count": 5,
   "id": "cbb9b637",
   "metadata": {},
   "outputs": [],
   "source": [
    "df['charter_encoded'] = df.charter_status.map({'OPEN ENROLLMENT CHARTER': 1, 'TRADITIONAL ISD/CSD':0})"
   ]
  },
  {
   "cell_type": "code",
   "execution_count": 7,
   "id": "ecad0d1d",
   "metadata": {},
   "outputs": [],
   "source": [
    "df=df[(df.heading == 'A01') | (df.heading ==  'A03')]\n",
    "    "
   ]
  },
  {
   "cell_type": "code",
   "execution_count": 9,
   "id": "3c8b8a9b",
   "metadata": {},
   "outputs": [],
   "source": [
    "df=df[df['student_count'] != '-999']"
   ]
  },
  {
   "cell_type": "code",
   "execution_count": 11,
   "id": "f0c46e5d",
   "metadata": {},
   "outputs": [],
   "source": [
    "df['student_count']= df['student_count'].str.replace(\"<\", \"\")"
   ]
  },
  {
   "cell_type": "code",
   "execution_count": 13,
   "id": "d3d92a0a",
   "metadata": {},
   "outputs": [],
   "source": [
    "df['student_count'] = df['student_count'].astype(float)"
   ]
  },
  {
   "cell_type": "code",
   "execution_count": 15,
   "id": "5e9a1f8b",
   "metadata": {},
   "outputs": [],
   "source": [
    "dfpivot=df.pivot(index='campus_number', columns='heading', values= 'student_count').dropna()"
   ]
  },
  {
   "cell_type": "code",
   "execution_count": 16,
   "id": "ad7b5933",
   "metadata": {},
   "outputs": [
    {
     "data": {
      "text/html": [
       "<div>\n",
       "<style scoped>\n",
       "    .dataframe tbody tr th:only-of-type {\n",
       "        vertical-align: middle;\n",
       "    }\n",
       "\n",
       "    .dataframe tbody tr th {\n",
       "        vertical-align: top;\n",
       "    }\n",
       "\n",
       "    .dataframe thead th {\n",
       "        text-align: right;\n",
       "    }\n",
       "</style>\n",
       "<table border=\"1\" class=\"dataframe\">\n",
       "  <thead>\n",
       "    <tr style=\"text-align: right;\">\n",
       "      <th>heading</th>\n",
       "      <th>A01</th>\n",
       "      <th>A03</th>\n",
       "    </tr>\n",
       "    <tr>\n",
       "      <th>campus_number</th>\n",
       "      <th></th>\n",
       "      <th></th>\n",
       "    </tr>\n",
       "  </thead>\n",
       "  <tbody>\n",
       "    <tr>\n",
       "      <th>1902001</th>\n",
       "      <td>173.0</td>\n",
       "      <td>37.0</td>\n",
       "    </tr>\n",
       "    <tr>\n",
       "      <th>1903001</th>\n",
       "      <td>335.0</td>\n",
       "      <td>141.0</td>\n",
       "    </tr>\n",
       "    <tr>\n",
       "      <th>1903041</th>\n",
       "      <td>309.0</td>\n",
       "      <td>65.0</td>\n",
       "    </tr>\n",
       "    <tr>\n",
       "      <th>1903102</th>\n",
       "      <td>295.0</td>\n",
       "      <td>40.0</td>\n",
       "    </tr>\n",
       "    <tr>\n",
       "      <th>1904001</th>\n",
       "      <td>248.0</td>\n",
       "      <td>101.0</td>\n",
       "    </tr>\n",
       "    <tr>\n",
       "      <th>...</th>\n",
       "      <td>...</td>\n",
       "      <td>...</td>\n",
       "    </tr>\n",
       "    <tr>\n",
       "      <th>253901001</th>\n",
       "      <td>1028.0</td>\n",
       "      <td>239.0</td>\n",
       "    </tr>\n",
       "    <tr>\n",
       "      <th>253901041</th>\n",
       "      <td>856.0</td>\n",
       "      <td>298.0</td>\n",
       "    </tr>\n",
       "    <tr>\n",
       "      <th>253901106</th>\n",
       "      <td>516.0</td>\n",
       "      <td>13.0</td>\n",
       "    </tr>\n",
       "    <tr>\n",
       "      <th>254901001</th>\n",
       "      <td>556.0</td>\n",
       "      <td>310.0</td>\n",
       "    </tr>\n",
       "    <tr>\n",
       "      <th>254901042</th>\n",
       "      <td>432.0</td>\n",
       "      <td>94.0</td>\n",
       "    </tr>\n",
       "  </tbody>\n",
       "</table>\n",
       "<p>5934 rows × 2 columns</p>\n",
       "</div>"
      ],
      "text/plain": [
       "heading           A01    A03\n",
       "campus_number               \n",
       "1902001         173.0   37.0\n",
       "1903001         335.0  141.0\n",
       "1903041         309.0   65.0\n",
       "1903102         295.0   40.0\n",
       "1904001         248.0  101.0\n",
       "...               ...    ...\n",
       "253901001      1028.0  239.0\n",
       "253901041       856.0  298.0\n",
       "253901106       516.0   13.0\n",
       "254901001       556.0  310.0\n",
       "254901042       432.0   94.0\n",
       "\n",
       "[5934 rows x 2 columns]"
      ]
     },
     "execution_count": 16,
     "metadata": {},
     "output_type": "execute_result"
    }
   ],
   "source": [
    "dfpivot"
   ]
  },
  {
   "cell_type": "code",
   "execution_count": 17,
   "id": "c2fc3264",
   "metadata": {},
   "outputs": [],
   "source": [
    "df=df.merge(dfpivot,how= 'right', on= 'campus_number')"
   ]
  },
  {
   "cell_type": "code",
   "execution_count": 19,
   "id": "4659ca7d",
   "metadata": {},
   "outputs": [],
   "source": [
    "df=df.rename(columns={'A01': 'student_enrollment', 'A03':'discipline_count'})"
   ]
  },
  {
   "cell_type": "code",
   "execution_count": 21,
   "id": "80261545",
   "metadata": {},
   "outputs": [],
   "source": [
    "df['discipline_percent']= ((df['discipline_count']/df['student_enrollment'])*100)"
   ]
  },
  {
   "cell_type": "code",
   "execution_count": 23,
   "id": "c3d0254d",
   "metadata": {},
   "outputs": [],
   "source": [
    "df=df.round({'discipline_percent': 0})"
   ]
  },
  {
   "cell_type": "code",
   "execution_count": 26,
   "id": "3e3b38fd",
   "metadata": {},
   "outputs": [],
   "source": [
    "df=df.drop(columns=['agg_level', 'campus_number', 'region', 'charter_status', 'dist_name_num', 'section', 'heading',\n",
    "       'heading_name', 'student_count'])"
   ]
  },
  {
   "cell_type": "code",
   "execution_count": null,
   "id": "ca7b4536",
   "metadata": {},
   "outputs": [],
   "source": [
    "def split_tea_data(df):\n",
    "    '''\n",
    "    This function performs split on tea data, stratify charter_encoded.\n",
    "    Returns train, validate, and test dfs.\n",
    "    '''\n",
    "    train_validate, test = train_test_split(df, test_size=.2, \n",
    "                                        random_state=123, \n",
    "                                        stratify=df.charter_encoded)\n",
    "    train, validate = train_test_split(train_validate, test_size=.3, \n",
    "                                   random_state=123, \n",
    "                                   stratify=train_validate.charter_encoded)\n",
    "    return train, validate, test"
   ]
  },
  {
   "cell_type": "code",
   "execution_count": null,
   "id": "d5eaf557",
   "metadata": {},
   "outputs": [],
   "source": [
    "train, validate, test= split_tea_data() "
   ]
  },
  {
   "cell_type": "code",
   "execution_count": null,
   "id": "ab62be9c",
   "metadata": {},
   "outputs": [],
   "source": [
    "train.head()"
   ]
  },
  {
   "cell_type": "code",
   "execution_count": null,
   "id": "f39b4511",
   "metadata": {},
   "outputs": [],
   "source": [
    "def prep(df):\n",
    "    global df22\n",
    "    df22=df22.rename(columns={'AGGREGATION LEVEL': 'agg_level', 'CAMPUS':'campus_number', 'REGION': 'region', 'DISTRICT NAME AND NUMBER': 'dist_name_num','CHARTER_STATUS':'charter_status', 'CAMPUS NAME AND NUMBER': 'campus_name_num', 'SECTION': 'section', 'HEADING':'heading','HEADING NAME': 'heading_name', 'YR22':'student_count'})\n",
    "    df22['charter_encoded'] = df22.charter_status.map({'OPEN ENROLLMENT CHARTER': 1, 'TRADITIONAL ISD/CSD':0})\n",
    "    df22=df22[(df22.heading == 'A01') | (df22.heading ==  'A03')]\n",
    "    df22 = df22[df22['student_count'] != '-999']\n",
    "    df22.dropna()\n",
    "    df22=df22.drop_duplicates()\n",
    "    df22pivot=df22.pivot(index='campus_number', columns='heading_name', values= 'student_count').dropna()\n",
    "    df22=df22.merge(df22pivot,how= 'right', on= 'campus_number')\n",
    "    df22=df22.drop(columns=[ 'agg_level', 'region','charter_status'])\n",
    "    # Removed values that were masked FERPA data\n",
    "    df22['student_count']= df22['student_count'].str.replace(\"<\", \"\")\n",
    "    # Converted column to float\n",
    "    df22['student_count'] = df22['student_count'].astype(float)\n",
    "    df22=df22.drop_duplicates()\n",
    "    df22.dropna()\n",
    "    df22=df22.rename(columns={'CAMPUS CUMULATIVE YEAR END ENROLLMENT': 'student_enrollment', \n",
    "                              'CAMPUS DISCIPLINE RECORD COUNT':'discipline_count'})\n",
    "    df22['student_enrollment']= df22['student_enrollment'].str.replace(\"<\", \"\")\n",
    "    df22['discipline_count']= df22['discipline_count'].str.replace(\"<\", \"\")\n",
    "    df22['student_enrollment'] = df22['student_enrollment'].astype(float)\n",
    "    df22['discipline_count'] = df22['discipline_count'].astype(float)\n",
    "    df22['discipline_percent']= ((df22['discipline_count']/df22['student_enrollment'])*100)\n",
    "    df22=df22.round({'discipline_percent': 0})\n",
    "    df22=df22.reset_index(drop=True)"
   ]
  }
 ],
 "metadata": {
  "kernelspec": {
   "display_name": "Python 3 (ipykernel)",
   "language": "python",
   "name": "python3"
  },
  "language_info": {
   "codemirror_mode": {
    "name": "ipython",
    "version": 3
   },
   "file_extension": ".py",
   "mimetype": "text/x-python",
   "name": "python",
   "nbconvert_exporter": "python",
   "pygments_lexer": "ipython3",
   "version": "3.9.12"
  }
 },
 "nbformat": 4,
 "nbformat_minor": 5
}
